{
 "cells": [
  {
   "cell_type": "code",
   "execution_count": 3,
   "id": "448c25c0-2634-48ab-96d9-cd63a23aee65",
   "metadata": {},
   "outputs": [
    {
     "data": {
      "text/plain": [
       "'\\nPrograma: media_arit\\nDescrição: Este programa calcula a média aritmética entre 4 números à escolha do usuário\\nAutor: Filipe Eich\\nData: 28/02/2025\\nVersao: 0.0.1\\n'"
      ]
     },
     "execution_count": 3,
     "metadata": {},
     "output_type": "execute_result"
    }
   ],
   "source": [
    "\"\"\"\n",
    "Programa: media_arit\n",
    "Descrição: Este programa calcula a média aritmética entre 4 números à escolha do usuário\n",
    "Autor: Filipe Eich\n",
    "Data: 28/02/2025\n",
    "Versao: 0.0.1\n",
    "\"\"\""
   ]
  },
  {
   "cell_type": "code",
   "execution_count": 5,
   "id": "894fd8a0-64c7-4b54-8659-5d44615f515f",
   "metadata": {},
   "outputs": [],
   "source": [
    "#Alocaçao de memoria\n",
    "\n",
    "a=\"\"\n",
    "c=\"\"\n",
    "b=\"\"\n",
    "d=\"\"\n",
    "m=\"\"\n"
   ]
  },
  {
   "cell_type": "code",
   "execution_count": 7,
   "id": "69533df8-fc7f-49b8-b32f-92411efd25d3",
   "metadata": {
    "scrolled": true
   },
   "outputs": [
    {
     "name": "stdin",
     "output_type": "stream",
     "text": [
      "\n",
      "Olá! Vamos calcular a média aritmética de 4 números a, b, c, d? Comece me dizendo o valor de a:  2\n",
      "\n",
      "Agora, me diga o valor para b:  2\n",
      "\n",
      "Agora, me diga o valor para c:  6\n",
      "\n",
      "Por fim, me diga o valor para d:  6\n"
     ]
    }
   ],
   "source": [
    "#Entrada de dados\n",
    "\n",
    "a = float(input(\"\\nOlá! Vamos calcular a média aritmética de 4 números a, b, c, d? Comece me dizendo o valor de a: \"))\n",
    "b = float(input(\"\\nAgora, me diga o valor para b: \"))\n",
    "c = float(input(\"\\nAgora, me diga o valor para c: \"))\n",
    "d = float(input(\"\\nPor fim, me diga o valor para d: \"))\n",
    "\n",
    "\n"
   ]
  },
  {
   "cell_type": "code",
   "execution_count": 9,
   "id": "9ec6182e-f888-4622-8308-4ecf55fffcc7",
   "metadata": {},
   "outputs": [],
   "source": [
    "# Processamento de dados\n",
    "\n",
    "m=(a+b+c+d)/4\n"
   ]
  },
  {
   "cell_type": "code",
   "execution_count": 11,
   "id": "23ca565b-9252-4690-983f-980220c1d4f4",
   "metadata": {},
   "outputs": [
    {
     "name": "stdout",
     "output_type": "stream",
     "text": [
      "\n",
      "Aqui está o valor da média aritmética para os números informados: 4.0\n"
     ]
    }
   ],
   "source": [
    "#Saida de dados\n",
    "\n",
    "\n",
    "print(f\"\\nAqui está o valor da média aritmética para os números informados: {m}\")\n",
    "\n",
    "\n"
   ]
  },
  {
   "cell_type": "code",
   "execution_count": null,
   "id": "5963554e-b214-463f-820b-86e8ba70fe6c",
   "metadata": {},
   "outputs": [],
   "source": []
  }
 ],
 "metadata": {
  "kernelspec": {
   "display_name": "Python [conda env:base] *",
   "language": "python",
   "name": "conda-base-py"
  },
  "language_info": {
   "codemirror_mode": {
    "name": "ipython",
    "version": 3
   },
   "file_extension": ".py",
   "mimetype": "text/x-python",
   "name": "python",
   "nbconvert_exporter": "python",
   "pygments_lexer": "ipython3",
   "version": "3.12.7"
  }
 },
 "nbformat": 4,
 "nbformat_minor": 5
}
